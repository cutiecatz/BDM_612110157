{
 "cells": [
  {
   "cell_type": "markdown",
   "metadata": {},
   "source": [
    "# FN395: Individual Assignment 01\n"
   ]
  },
  {
   "cell_type": "markdown",
   "metadata": {},
   "source": [
    "This assignment consists of 5 exercises and worth 2 points each. Students are allowed to collaborate with other students and to find guidelines on the internet. **However, copying answers from other students or the internet is considered plagiarism and will result in failing the course.**\n",
    "\n",
    "\n",
    "The deadline is 3rd September 2020 23:59 PM. **You have to send this .ipynb file to prab1991@protonmail.com** with the email subject constucted as follows:\n",
    "\n",
    "        Student_ID_number + your name\n",
    "        5202465075PRAB.ipynb"
   ]
  },
  {
   "cell_type": "markdown",
   "metadata": {},
   "source": [
    "**Fill in your name, ID number and email below:**"
   ]
  },
  {
   "cell_type": "code",
   "execution_count": null,
   "metadata": {},
   "outputs": [],
   "source": [
    "# Name: Phumphat Karanasophonphun\n",
    "# Student ID number: 6102640635\n",
    "# Email: phumphat_kar61@tbs.tu.ac.th"
   ]
  },
  {
   "cell_type": "markdown",
   "metadata": {},
   "source": [
    "## 1. First Digit Extractor"
   ]
  },
  {
   "cell_type": "markdown",
   "metadata": {},
   "source": [
    "**Write a function that gets one parameter: an integer value, then return the first digit of that value.**\n",
    "\n",
    "For example, if the number is 2141, this function should return 2. If the number is 62, this function should return 6."
   ]
  },
  {
   "cell_type": "code",
   "execution_count": 6,
   "metadata": {},
   "outputs": [],
   "source": [
    "def first_num(number):\n",
    "    number = input(\"Enter your number:\")\n",
    "   \n"
   ]
  },
  {
   "cell_type": "markdown",
   "metadata": {},
   "source": [
    "## 2. Checking Randomization Bias"
   ]
  },
  {
   "cell_type": "markdown",
   "metadata": {},
   "source": [
    "If the computer has no bias, the first digit of randomized numbers should be distributed equally between 1-9. **Write a program that randomly generates 10,000 numbers with value ranging from 1 to 1,000,000 and count how many times the first digit of randomized numbers are 1,2,3 .. 9 to see whether they are equally distributed.**"
   ]
  },
  {
   "cell_type": "code",
   "execution_count": null,
   "metadata": {},
   "outputs": [],
   "source": [
    "from random import randint\n"
   ]
  },
  {
   "cell_type": "markdown",
   "metadata": {},
   "source": [
    "## 3. Basic Liquidity Ratio"
   ]
  },
  {
   "cell_type": "markdown",
   "metadata": {},
   "source": [
    "In personal finance, basic liquidity ratio calculates the time (in months) for which a person or a familiy is able to meet its expenses with its monetary assets, cash equivalents or assets that can be converted into cash in 1 day. **Write a function that gets two parameters: the amount of monetary assets and monthly expenses, and return basic liquidity ratio.**"
   ]
  },
  {
   "cell_type": "code",
   "execution_count": 1,
   "metadata": {},
   "outputs": [
    {
     "data": {
      "text/plain": [
       "10.0"
      ]
     },
     "execution_count": 1,
     "metadata": {},
     "output_type": "execute_result"
    }
   ],
   "source": [
    "def Basic_liquidity_ratio(monetary_assets, monthly_expenses):\n",
    "    return monetary_assets/ monthly_expenses\n",
    "    \n",
    "Basic_liquidity_ratio (100,10)"
   ]
  },
  {
   "cell_type": "code",
   "execution_count": null,
   "metadata": {},
   "outputs": [],
   "source": [
    "# 4. Basic Liquidity Ratio Calculator\n",
    "\n",
    "**Write a program that asks users the following questions:**\n",
    "- How much money do you spend on food per day?\n",
    "- How much money do you spend on groceries per month?\n",
    "- How much money do you speed on transportation per month?\n",
    "- How much money do you spend on rent (or housing-related) per month?\n",
    "- How much money do you spend on subscription services (Netflix, Spotify, phone etc.) per month?\n",
    "- How much money do you spend on clothing per year?\n",
    "- How much money do you spend on repaying debt or other financial obligations (e.g. insurance) per year?\n",
    "\n",
    "and\n",
    "- How much money do you have in all of your savings accounts?\n",
    "- If any, how much is your other cash-equivalent assets worth?\n",
    "\n",
    "**Then this program calculates and display user's basic liquidity ratio.**"
   ]
  },
  {
   "cell_type": "code",
   "execution_count": 3,
   "metadata": {},
   "outputs": [
    {
     "name": "stdout",
     "output_type": "stream",
     "text": [
      "How much money do you spend on food per day?1\n",
      "How much money do you spend on groceries per month?10\n",
      "How much money do you speed on transportation per month?10\n",
      "How much money do you spend on rent (or housing-related) per month?10\n",
      "How much money do you spend on subscription services (Netflix, Spotify, phone etc.) per month?10\n",
      "How much money do you spend on clothing per year?10\n",
      "How much money do you have in all of your savings accounts?10\n",
      "If any, how much is your other cash-equivalent assets worth?10\n"
     ]
    }
   ],
   "source": [
    "Food = float(input(\"How much money do you spend on food per day?\"))\n",
    "Groceries = float(input(\"How much money do you spend on groceries per month?\"))\n",
    "Transportation = float(input (\"How much money do you speed on transportation per month?\"))\n",
    "Rent = float(input (\"How much money do you spend on rent (or housing-related) per month?\"))\n",
    "Subscription = float(input (\"How much money do you spend on subscription services (Netflix, Spotify, phone etc.) per month?\"))\n",
    "Clothing = float(input (\"How much money do you spend on clothing per year?\"))\n",
    "Saving = float(input (\"How much money do you have in all of your savings accounts?\"))\n",
    "CashEquivalent = float(input (\"If any, how much is your other cash-equivalent assets worth?\"))\n",
    "\n",
    "def monthly_expenses( Food, Groceries, Transportation, Rent, Subscription, Clothing, Debt):\n",
    "     return Food*30 + Groceries + Transportation + Rent + Subcription + Clothing + Debt\n",
    "   \n",
    "        \n",
    "def monetary_assets(Saving,CashEquivalent): \n",
    "    return Saving + CashEquivalent\n",
    "\n",
    "def Basic_liquidity_ratio(monetary_assets, monthly_expenses):\n",
    "    return monetary_assets/ monthly_expenses"
   ]
  },
  {
   "cell_type": "markdown",
   "metadata": {},
   "source": [
    "## 5. From Basic Liquidity Ratio to Financial Health Check Program"
   ]
  },
  {
   "cell_type": "markdown",
   "metadata": {},
   "source": [
    "Now try to enhance your program from Exercise 4 by adding the following features:\n",
    "- Display user's annual spending summary by categories (food, groceries, transportation ... )\n",
    "- Ask for the user's income\n",
    "- Calculate and display the debt-service coverage ratio (annual income/annual financial obligations)\n",
    "- If basic liquidity ratio is below 3, tell users that they need to save more or spend less\n",
    "- If basic liquidity ratio is above 6, tell users that they're probably holding too much cash and should consider about making some investments\n",
    "- If debt-service coverage ratio is below 2, tell users that they should consider debt restructuring."
   ]
  },
  {
   "cell_type": "code",
   "execution_count": null,
   "metadata": {},
   "outputs": [],
   "source": []
  },
  {
   "cell_type": "code",
   "execution_count": null,
   "metadata": {},
   "outputs": [],
   "source": []
  }
 ],
 "metadata": {
  "kernelspec": {
   "display_name": "Python 3",
   "language": "python",
   "name": "python3"
  },
  "language_info": {
   "codemirror_mode": {
    "name": "ipython",
    "version": 3
   },
   "file_extension": ".py",
   "mimetype": "text/x-python",
   "name": "python",
   "nbconvert_exporter": "python",
   "pygments_lexer": "ipython3",
   "version": "3.8.3"
  }
 },
 "nbformat": 4,
 "nbformat_minor": 4
}
